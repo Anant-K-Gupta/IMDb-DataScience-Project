{
 "cells": [
  {
   "cell_type": "code",
   "execution_count": 2,
   "metadata": {},
   "outputs": [],
   "source": [
    "# IMPORTING LIBRARIES\n",
    "\n",
    "import numpy as np\n",
    "import pandas as pd\n",
    "import matplotlib.pyplot as plt \n",
    "import seaborn as sns\n"
   ]
  },
  {
   "cell_type": "code",
   "execution_count": 13,
   "metadata": {},
   "outputs": [
    {
     "name": "stdout",
     "output_type": "stream",
     "text": [
      "<class 'pandas.core.frame.DataFrame'>\n",
      "RangeIndex: 32135 entries, 0 to 32134\n",
      "Data columns (total 10 columns):\n",
      " #   Column              Non-Null Count  Dtype  \n",
      "---  ------              --------------  -----  \n",
      " 0   Unnamed: 0          32135 non-null  int64  \n",
      " 1   Ranking             32135 non-null  object \n",
      " 2   Title               32135 non-null  object \n",
      " 3   Release Year        32135 non-null  object \n",
      " 4   Duration(Min.)      32135 non-null  object \n",
      " 5   Genre               32135 non-null  object \n",
      " 6   Sub Genres          32135 non-null  object \n",
      " 7   User Rating         32135 non-null  float64\n",
      " 8   Directors & Actors  32135 non-null  object \n",
      " 9   Votes               32135 non-null  object \n",
      "dtypes: float64(1), int64(1), object(8)\n",
      "memory usage: 2.5+ MB\n"
     ]
    }
   ],
   "source": [
    "# Using the imdb-5000-movie-dataset\n",
    "# license - http://opendatacommons.org/licenses/dbcl/1.0/\n",
    "\n",
    "imdb_data = pd.read_csv('imdb-data.csv')\n",
    "imdb_data.info()"
   ]
  },
  {
   "cell_type": "code",
   "execution_count": 17,
   "metadata": {},
   "outputs": [
    {
     "data": {
      "text/plain": [
       "Unnamed: 0            0\n",
       "Ranking               0\n",
       "Title                 0\n",
       "Release Year          0\n",
       "Duration(Min.)        0\n",
       "Genre                 0\n",
       "Sub Genres            0\n",
       "User Rating           0\n",
       "Directors & Actors    0\n",
       "Votes                 0\n",
       "dtype: int64"
      ]
     },
     "execution_count": 17,
     "metadata": {},
     "output_type": "execute_result"
    }
   ],
   "source": [
    "imdb_data.isnull().sum()"
   ]
  },
  {
   "cell_type": "code",
   "execution_count": 19,
   "metadata": {},
   "outputs": [
    {
     "name": "stdout",
     "output_type": "stream",
     "text": [
      "<class 'pandas.core.frame.DataFrame'>\n",
      "Int64Index: 32134 entries, 0 to 32134\n",
      "Data columns (total 10 columns):\n",
      " #   Column              Non-Null Count  Dtype  \n",
      "---  ------              --------------  -----  \n",
      " 0   Unnamed: 0          32134 non-null  int64  \n",
      " 1   Ranking             32134 non-null  object \n",
      " 2   Title               32134 non-null  object \n",
      " 3   Release Year        32134 non-null  object \n",
      " 4   Duration(Min.)      32134 non-null  object \n",
      " 5   Genre               32134 non-null  object \n",
      " 6   Sub Genres          32134 non-null  object \n",
      " 7   User Rating         32134 non-null  float64\n",
      " 8   Directors & Actors  32134 non-null  object \n",
      " 9   Votes               32134 non-null  object \n",
      "dtypes: float64(1), int64(1), object(8)\n",
      "memory usage: 2.7+ MB\n"
     ]
    }
   ],
   "source": [
    "imdb_data.drop_duplicates(inplace=True)\n",
    "imdb_data.info()\n"
   ]
  },
  {
   "cell_type": "code",
   "execution_count": 16,
   "metadata": {},
   "outputs": [
    {
     "name": "stdout",
     "output_type": "stream",
     "text": [
      "<class 'pandas.core.frame.DataFrame'>\n",
      "RangeIndex: 12152 entries, 0 to 12151\n",
      "Data columns (total 15 columns):\n",
      " #   Column          Non-Null Count  Dtype  \n",
      "---  ------          --------------  -----  \n",
      " 0   Unnamed: 0      12152 non-null  int64  \n",
      " 1   Ranking         12152 non-null  int64  \n",
      " 2   Title           12152 non-null  object \n",
      " 3   Release Year    12152 non-null  int64  \n",
      " 4   Duration(Min.)  12152 non-null  int64  \n",
      " 5   Genre           12152 non-null  int64  \n",
      " 6   User Rating     12152 non-null  float64\n",
      " 7   Votes           12152 non-null  int64  \n",
      " 8   Sub Genre 1     12152 non-null  int64  \n",
      " 9   Sub Genre 2     12152 non-null  int64  \n",
      " 10  Director        12152 non-null  int64  \n",
      " 11  Actor #1        12152 non-null  int64  \n",
      " 12  Actor #2        12152 non-null  int64  \n",
      " 13  Actor #3        12152 non-null  int64  \n",
      " 14  Actor #4        12152 non-null  int64  \n",
      "dtypes: float64(1), int64(13), object(1)\n",
      "memory usage: 1.4+ MB\n"
     ]
    }
   ],
   "source": [
    "raw_data = pd.read_csv('raw-data.csv')\n",
    "\n",
    "raw_data."
   ]
  }
 ],
 "metadata": {
  "kernelspec": {
   "display_name": "Python 3",
   "language": "python",
   "name": "python3"
  },
  "language_info": {
   "codemirror_mode": {
    "name": "ipython",
    "version": 3
   },
   "file_extension": ".py",
   "mimetype": "text/x-python",
   "name": "python",
   "nbconvert_exporter": "python",
   "pygments_lexer": "ipython3",
   "version": "3.8.10"
  },
  "orig_nbformat": 4
 },
 "nbformat": 4,
 "nbformat_minor": 2
}
