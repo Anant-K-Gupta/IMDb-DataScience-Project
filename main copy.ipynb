{
 "cells": [
  {
   "cell_type": "code",
   "execution_count": 301,
   "metadata": {},
   "outputs": [],
   "source": [
    "# IMPORTING LIBRARIES\n",
    "\n",
    "import numpy as np\n",
    "import pandas as pd\n",
    "import matplotlib.pyplot as plt \n",
    "import seaborn as sns\n"
   ]
  },
  {
   "cell_type": "code",
   "execution_count": 302,
   "metadata": {},
   "outputs": [
    {
     "name": "stdout",
     "output_type": "stream",
     "text": [
      "<class 'pandas.core.frame.DataFrame'>\n",
      "RangeIndex: 5043 entries, 0 to 5042\n",
      "Data columns (total 28 columns):\n",
      " #   Column                     Non-Null Count  Dtype  \n",
      "---  ------                     --------------  -----  \n",
      " 0   color                      5024 non-null   object \n",
      " 1   director_name              4939 non-null   object \n",
      " 2   num_critic_for_reviews     4993 non-null   float64\n",
      " 3   duration                   5028 non-null   float64\n",
      " 4   director_facebook_likes    4939 non-null   float64\n",
      " 5   actor_3_facebook_likes     5020 non-null   float64\n",
      " 6   actor_2_name               5030 non-null   object \n",
      " 7   actor_1_facebook_likes     5036 non-null   float64\n",
      " 8   gross                      4159 non-null   float64\n",
      " 9   genres                     5043 non-null   object \n",
      " 10  actor_1_name               5036 non-null   object \n",
      " 11  movie_title                5043 non-null   object \n",
      " 12  num_voted_users            5043 non-null   int64  \n",
      " 13  cast_total_facebook_likes  5043 non-null   int64  \n",
      " 14  actor_3_name               5020 non-null   object \n",
      " 15  facenumber_in_poster       5030 non-null   float64\n",
      " 16  plot_keywords              4890 non-null   object \n",
      " 17  movie_imdb_link            5043 non-null   object \n",
      " 18  num_user_for_reviews       5022 non-null   float64\n",
      " 19  language                   5031 non-null   object \n",
      " 20  country                    5038 non-null   object \n",
      " 21  content_rating             4740 non-null   object \n",
      " 22  budget                     4551 non-null   float64\n",
      " 23  title_year                 4935 non-null   float64\n",
      " 24  actor_2_facebook_likes     5030 non-null   float64\n",
      " 25  imdb_score                 5043 non-null   float64\n",
      " 26  aspect_ratio               4714 non-null   float64\n",
      " 27  movie_facebook_likes       5043 non-null   int64  \n",
      "dtypes: float64(13), int64(3), object(12)\n",
      "memory usage: 1.1+ MB\n"
     ]
    }
   ],
   "source": [
    "# Using the imdb-5000-movie-dataset\n",
    "# license - http://opendatacommons.org/licenses/dbcl/1.0/\n",
    "\n",
    "imdb_data = pd.read_csv('movie_metadata.csv')\n",
    "imdb_data.info()"
   ]
  },
  {
   "cell_type": "code",
   "execution_count": 303,
   "metadata": {},
   "outputs": [
    {
     "data": {
      "text/plain": [
       "color                         19\n",
       "director_name                104\n",
       "num_critic_for_reviews        50\n",
       "duration                      15\n",
       "director_facebook_likes      104\n",
       "actor_3_facebook_likes        23\n",
       "actor_2_name                  13\n",
       "actor_1_facebook_likes         7\n",
       "gross                        884\n",
       "genres                         0\n",
       "actor_1_name                   7\n",
       "movie_title                    0\n",
       "num_voted_users                0\n",
       "cast_total_facebook_likes      0\n",
       "actor_3_name                  23\n",
       "facenumber_in_poster          13\n",
       "plot_keywords                153\n",
       "movie_imdb_link                0\n",
       "num_user_for_reviews          21\n",
       "language                      12\n",
       "country                        5\n",
       "content_rating               303\n",
       "budget                       492\n",
       "title_year                   108\n",
       "actor_2_facebook_likes        13\n",
       "imdb_score                     0\n",
       "aspect_ratio                 329\n",
       "movie_facebook_likes           0\n",
       "dtype: int64"
      ]
     },
     "execution_count": 303,
     "metadata": {},
     "output_type": "execute_result"
    }
   ],
   "source": [
    "imdb_data.isnull().sum()"
   ]
  },
  {
   "cell_type": "code",
   "execution_count": 304,
   "metadata": {},
   "outputs": [],
   "source": [
    "\n",
    "imdb_data.dropna(axis=0,subset=['color',\n",
    "                                'director_name', \n",
    "                                'num_critic_for_reviews',\n",
    "                                'duration',\n",
    "                                'director_facebook_likes',\n",
    "                                'actor_3_facebook_likes',\n",
    "                                'actor_2_name',\n",
    "                                'actor_1_facebook_likes',\n",
    "                                'actor_1_name',\n",
    "                                'actor_3_name',\n",
    "                                'facenumber_in_poster',\n",
    "                                'num_user_for_reviews',\n",
    "                                'language',\n",
    "                                'country',\n",
    "                                'actor_2_facebook_likes',\n",
    "                                'plot_keywords'],\n",
    "                                inplace=True)"
   ]
  },
  {
   "cell_type": "code",
   "execution_count": 305,
   "metadata": {},
   "outputs": [
    {
     "data": {
      "text/plain": [
       "(4729, 28)"
      ]
     },
     "execution_count": 305,
     "metadata": {},
     "output_type": "execute_result"
    }
   ],
   "source": [
    "imdb_data.shape"
   ]
  },
  {
   "attachments": {},
   "cell_type": "markdown",
   "metadata": {},
   "source": [
    "We lost around 6% of data which is within an acceptable range. We will now try and replace null values with average values to have a tidy dataset."
   ]
  },
  {
   "cell_type": "code",
   "execution_count": 306,
   "metadata": {},
   "outputs": [
    {
     "data": {
      "text/plain": [
       "color                          0\n",
       "director_name                  0\n",
       "num_critic_for_reviews         0\n",
       "duration                       0\n",
       "director_facebook_likes        0\n",
       "actor_3_facebook_likes         0\n",
       "actor_2_name                   0\n",
       "actor_1_facebook_likes         0\n",
       "gross                        637\n",
       "genres                         0\n",
       "actor_1_name                   0\n",
       "movie_title                    0\n",
       "num_voted_users                0\n",
       "cast_total_facebook_likes      0\n",
       "actor_3_name                   0\n",
       "facenumber_in_poster           0\n",
       "plot_keywords                  0\n",
       "movie_imdb_link                0\n",
       "num_user_for_reviews           0\n",
       "language                       0\n",
       "country                        0\n",
       "content_rating               169\n",
       "budget                       351\n",
       "title_year                     0\n",
       "actor_2_facebook_likes         0\n",
       "imdb_score                     0\n",
       "aspect_ratio                 205\n",
       "movie_facebook_likes           0\n",
       "dtype: int64"
      ]
     },
     "execution_count": 306,
     "metadata": {},
     "output_type": "execute_result"
    }
   ],
   "source": [
    "imdb_data.isnull().sum()"
   ]
  },
  {
   "cell_type": "code",
   "execution_count": 307,
   "metadata": {},
   "outputs": [
    {
     "data": {
      "text/plain": [
       "R            2076\n",
       "PG-13        1434\n",
       "PG            681\n",
       "G             109\n",
       "Not Rated     100\n",
       "Unrated        58\n",
       "Approved       55\n",
       "X              13\n",
       "Passed          9\n",
       "NC-17           7\n",
       "GP              6\n",
       "M               5\n",
       "TV-14           3\n",
       "TV-G            3\n",
       "TV-PG           1\n",
       "Name: content_rating, dtype: int64"
      ]
     },
     "execution_count": 307,
     "metadata": {},
     "output_type": "execute_result"
    }
   ],
   "source": [
    "rating_data = imdb_data['content_rating'].value_counts()\n",
    "rating_data"
   ]
  },
  {
   "cell_type": "code",
   "execution_count": 308,
   "metadata": {},
   "outputs": [
    {
     "data": {
      "text/plain": [
       "98                              Godzilla Resurgence \n",
       "204                             Godzilla Resurgence \n",
       "242                    Asterix at the Olympic Games \n",
       "489                                       Evolution \n",
       "810     Xi you ji zhi: Sun Wukong san da Baigu Jing \n",
       "                            ...                     \n",
       "5017                                      Dry Spell \n",
       "5018                                       Flywheel \n",
       "5029                                       The Cure \n",
       "5032                                           Bang \n",
       "5038                        Signed Sealed Delivered \n",
       "Name: movie_title, Length: 169, dtype: object"
      ]
     },
     "execution_count": 308,
     "metadata": {},
     "output_type": "execute_result"
    }
   ],
   "source": [
    "imdb_data[imdb_data['content_rating'].isnull()]['movie_title']"
   ]
  },
  {
   "cell_type": "code",
   "execution_count": 309,
   "metadata": {},
   "outputs": [],
   "source": [
    "# Removing duplicate values\n",
    "imdb_data.drop_duplicates(inplace=True)\n"
   ]
  },
  {
   "cell_type": "code",
   "execution_count": 310,
   "metadata": {},
   "outputs": [
    {
     "data": {
      "text/plain": [
       "(4687, 28)"
      ]
     },
     "execution_count": 310,
     "metadata": {},
     "output_type": "execute_result"
    }
   ],
   "source": [
    "imdb_data.shape"
   ]
  },
  {
   "cell_type": "code",
   "execution_count": 311,
   "metadata": {},
   "outputs": [],
   "source": [
    "import requests\n",
    "api_key = '8af056a9a0e63e410987616db5c07f80'"
   ]
  },
  {
   "cell_type": "code",
   "execution_count": 312,
   "metadata": {},
   "outputs": [],
   "source": [
    "def getMovieID(title):\n",
    "    title = title.replace(' ','+')\n",
    "    movie = requests.get(f\"https://api.themoviedb.org/3/search/movie?api_key={api_key}&query={title}\")\n",
    "    id = movie.json()['results'][0]['id']\n",
    "    return id"
   ]
  },
  {
   "cell_type": "code",
   "execution_count": 313,
   "metadata": {},
   "outputs": [],
   "source": [
    "def getContentRating(id):\n",
    "    response = requests.get(f\"https://api.themoviedb.org/3/movie/{id}/release_dates?api_key={api_key}\")\n",
    "    for i in response.json()['results']:\n",
    "        if i['iso_3166_1'] == 'US':\n",
    "            return i['release_dates'][0]['certification']\n"
   ]
  },
  {
   "cell_type": "code",
   "execution_count": 314,
   "metadata": {},
   "outputs": [],
   "source": [
    "def getGross(id):\n",
    "    response = requests.get(f\"https://api.themoviedb.org/3/movie/{id}?api_key={api_key}\")\n",
    "    return response.json()['revenue']"
   ]
  },
  {
   "cell_type": "code",
   "execution_count": 315,
   "metadata": {},
   "outputs": [],
   "source": [
    "def getBudget(id):\n",
    "    response = requests.get(f\"https://api.themoviedb.org/3/movie/{id}?api_key={api_key}\")\n",
    "    return response.json()['budget']"
   ]
  },
  {
   "cell_type": "code",
   "execution_count": 272,
   "metadata": {},
   "outputs": [
    {
     "data": {
      "text/plain": [
       "105000000"
      ]
     },
     "execution_count": 272,
     "metadata": {},
     "output_type": "execute_result"
    }
   ],
   "source": [
    "getBudget(getMovieID('Great Gatsby'))\n"
   ]
  },
  {
   "cell_type": "code",
   "execution_count": 186,
   "metadata": {},
   "outputs": [],
   "source": [
    "def fillGross(dataSet):\n",
    "    #for index,movie in dataSet.iterrows():\n",
    "    for index in len(dataSet):\n",
    "        #movie[\"gross\"].fillna(0.0, inplace = True)\n",
    "        if (pd.isna(movie['gross'])):\n",
    "            dataSet.iloc[index-1,8] = getGross(getMovieID(movie['movie_title']))\n",
    "            print(dataSet.iloc[index-1,8])\n",
    "            #print(dataSet.iloc[index])\n",
    "            #print('ok')\n",
    "            #print(movie['gross'])\n",
    "            #movie['gross'].replace(np.nan,getGross(getMovieID(movie['movie_title'])))"
   ]
  },
  {
   "cell_type": "code",
   "execution_count": 319,
   "metadata": {},
   "outputs": [
    {
     "name": "stdout",
     "output_type": "stream",
     "text": [
      "Index(['color', 'director_name', 'num_critic_for_reviews', 'duration',\n",
      "       'director_facebook_likes', 'actor_3_facebook_likes', 'actor_2_name',\n",
      "       'actor_1_facebook_likes', 'gross', 'genres', 'actor_1_name',\n",
      "       'movie_title', 'num_voted_users', 'cast_total_facebook_likes',\n",
      "       'actor_3_name', 'facenumber_in_poster', 'plot_keywords',\n",
      "       'movie_imdb_link', 'num_user_for_reviews', 'language', 'country',\n",
      "       'content_rating', 'budget', 'title_year', 'actor_2_facebook_likes',\n",
      "       'imdb_score', 'aspect_ratio', 'movie_facebook_likes'],\n",
      "      dtype='object')\n",
      "964\n"
     ]
    }
   ],
   "source": [
    "null_values = imdb_data.isnull()\n",
    "\n",
    "\n",
    "\n",
    "# Use the any() method to identify which rows have at least one null value\n",
    "null_rows = null_values.any(axis=1)\n",
    "\n",
    "# Use boolean indexing to filter the dataframe and extract the rows with null values\n",
    "result = imdb_data[null_rows]\n",
    "print(result.columns)\n",
    "\n",
    "# Print the result\n",
    "print(len(result))"
   ]
  },
  {
   "cell_type": "code",
   "execution_count": 323,
   "metadata": {},
   "outputs": [
    {
     "data": {
      "text/html": [
       "<div>\n",
       "<style scoped>\n",
       "    .dataframe tbody tr th:only-of-type {\n",
       "        vertical-align: middle;\n",
       "    }\n",
       "\n",
       "    .dataframe tbody tr th {\n",
       "        vertical-align: top;\n",
       "    }\n",
       "\n",
       "    .dataframe thead th {\n",
       "        text-align: right;\n",
       "    }\n",
       "</style>\n",
       "<table border=\"1\" class=\"dataframe\">\n",
       "  <thead>\n",
       "    <tr style=\"text-align: right;\">\n",
       "      <th></th>\n",
       "      <th>color</th>\n",
       "      <th>director_name</th>\n",
       "      <th>num_critic_for_reviews</th>\n",
       "      <th>duration</th>\n",
       "      <th>director_facebook_likes</th>\n",
       "      <th>actor_3_facebook_likes</th>\n",
       "      <th>actor_2_name</th>\n",
       "      <th>actor_1_facebook_likes</th>\n",
       "      <th>gross</th>\n",
       "      <th>genres</th>\n",
       "      <th>...</th>\n",
       "      <th>num_user_for_reviews</th>\n",
       "      <th>language</th>\n",
       "      <th>country</th>\n",
       "      <th>content_rating</th>\n",
       "      <th>budget</th>\n",
       "      <th>title_year</th>\n",
       "      <th>actor_2_facebook_likes</th>\n",
       "      <th>imdb_score</th>\n",
       "      <th>aspect_ratio</th>\n",
       "      <th>movie_facebook_likes</th>\n",
       "    </tr>\n",
       "  </thead>\n",
       "  <tbody>\n",
       "    <tr>\n",
       "      <th>55</th>\n",
       "      <td>Color</td>\n",
       "      <td>Peter Sohn</td>\n",
       "      <td>298.0</td>\n",
       "      <td>93.0</td>\n",
       "      <td>113.0</td>\n",
       "      <td>113.0</td>\n",
       "      <td>Jack McGraw</td>\n",
       "      <td>275.0</td>\n",
       "      <td>123070338.0</td>\n",
       "      <td>Adventure|Animation|Comedy|Family|Fantasy</td>\n",
       "      <td>...</td>\n",
       "      <td>345.0</td>\n",
       "      <td>English</td>\n",
       "      <td>USA</td>\n",
       "      <td>PG</td>\n",
       "      <td>NaN</td>\n",
       "      <td>2015.0</td>\n",
       "      <td>150.0</td>\n",
       "      <td>6.8</td>\n",
       "      <td>2.35</td>\n",
       "      <td>20000</td>\n",
       "    </tr>\n",
       "    <tr>\n",
       "      <th>84</th>\n",
       "      <td>Color</td>\n",
       "      <td>Roland Joffé</td>\n",
       "      <td>10.0</td>\n",
       "      <td>109.0</td>\n",
       "      <td>596.0</td>\n",
       "      <td>283.0</td>\n",
       "      <td>Alice Englert</td>\n",
       "      <td>622.0</td>\n",
       "      <td>NaN</td>\n",
       "      <td>Action|Adventure|Romance|Sci-Fi</td>\n",
       "      <td>...</td>\n",
       "      <td>15.0</td>\n",
       "      <td>English</td>\n",
       "      <td>Belgium</td>\n",
       "      <td>R</td>\n",
       "      <td>NaN</td>\n",
       "      <td>2015.0</td>\n",
       "      <td>525.0</td>\n",
       "      <td>4.5</td>\n",
       "      <td>NaN</td>\n",
       "      <td>677</td>\n",
       "    </tr>\n",
       "    <tr>\n",
       "      <th>98</th>\n",
       "      <td>Color</td>\n",
       "      <td>Hideaki Anno</td>\n",
       "      <td>1.0</td>\n",
       "      <td>120.0</td>\n",
       "      <td>28.0</td>\n",
       "      <td>12.0</td>\n",
       "      <td>Shin'ya Tsukamoto</td>\n",
       "      <td>544.0</td>\n",
       "      <td>NaN</td>\n",
       "      <td>Action|Adventure|Drama|Horror|Sci-Fi</td>\n",
       "      <td>...</td>\n",
       "      <td>13.0</td>\n",
       "      <td>Japanese</td>\n",
       "      <td>Japan</td>\n",
       "      <td>NaN</td>\n",
       "      <td>NaN</td>\n",
       "      <td>2016.0</td>\n",
       "      <td>106.0</td>\n",
       "      <td>8.2</td>\n",
       "      <td>2.35</td>\n",
       "      <td>0</td>\n",
       "    </tr>\n",
       "    <tr>\n",
       "      <th>242</th>\n",
       "      <td>Color</td>\n",
       "      <td>Frédéric Forestier</td>\n",
       "      <td>33.0</td>\n",
       "      <td>116.0</td>\n",
       "      <td>0.0</td>\n",
       "      <td>141.0</td>\n",
       "      <td>Santiago Segura</td>\n",
       "      <td>936.0</td>\n",
       "      <td>NaN</td>\n",
       "      <td>Adventure|Comedy|Family|Fantasy</td>\n",
       "      <td>...</td>\n",
       "      <td>36.0</td>\n",
       "      <td>French</td>\n",
       "      <td>France</td>\n",
       "      <td>NaN</td>\n",
       "      <td>78000000.0</td>\n",
       "      <td>2008.0</td>\n",
       "      <td>276.0</td>\n",
       "      <td>5.1</td>\n",
       "      <td>2.35</td>\n",
       "      <td>291</td>\n",
       "    </tr>\n",
       "    <tr>\n",
       "      <th>422</th>\n",
       "      <td>Color</td>\n",
       "      <td>Bob Fosse</td>\n",
       "      <td>84.0</td>\n",
       "      <td>123.0</td>\n",
       "      <td>189.0</td>\n",
       "      <td>87.0</td>\n",
       "      <td>Ben Vereen</td>\n",
       "      <td>813.0</td>\n",
       "      <td>NaN</td>\n",
       "      <td>Comedy|Drama|Music|Musical</td>\n",
       "      <td>...</td>\n",
       "      <td>146.0</td>\n",
       "      <td>English</td>\n",
       "      <td>USA</td>\n",
       "      <td>R</td>\n",
       "      <td>NaN</td>\n",
       "      <td>1979.0</td>\n",
       "      <td>388.0</td>\n",
       "      <td>7.8</td>\n",
       "      <td>1.85</td>\n",
       "      <td>0</td>\n",
       "    </tr>\n",
       "    <tr>\n",
       "      <th>...</th>\n",
       "      <td>...</td>\n",
       "      <td>...</td>\n",
       "      <td>...</td>\n",
       "      <td>...</td>\n",
       "      <td>...</td>\n",
       "      <td>...</td>\n",
       "      <td>...</td>\n",
       "      <td>...</td>\n",
       "      <td>...</td>\n",
       "      <td>...</td>\n",
       "      <td>...</td>\n",
       "      <td>...</td>\n",
       "      <td>...</td>\n",
       "      <td>...</td>\n",
       "      <td>...</td>\n",
       "      <td>...</td>\n",
       "      <td>...</td>\n",
       "      <td>...</td>\n",
       "      <td>...</td>\n",
       "      <td>...</td>\n",
       "      <td>...</td>\n",
       "    </tr>\n",
       "    <tr>\n",
       "      <th>5029</th>\n",
       "      <td>Color</td>\n",
       "      <td>Kiyoshi Kurosawa</td>\n",
       "      <td>78.0</td>\n",
       "      <td>111.0</td>\n",
       "      <td>62.0</td>\n",
       "      <td>6.0</td>\n",
       "      <td>Anna Nakagawa</td>\n",
       "      <td>89.0</td>\n",
       "      <td>94596.0</td>\n",
       "      <td>Crime|Horror|Mystery|Thriller</td>\n",
       "      <td>...</td>\n",
       "      <td>50.0</td>\n",
       "      <td>Japanese</td>\n",
       "      <td>Japan</td>\n",
       "      <td>NaN</td>\n",
       "      <td>1000000.0</td>\n",
       "      <td>1997.0</td>\n",
       "      <td>13.0</td>\n",
       "      <td>7.4</td>\n",
       "      <td>1.85</td>\n",
       "      <td>817</td>\n",
       "    </tr>\n",
       "    <tr>\n",
       "      <th>5032</th>\n",
       "      <td>Color</td>\n",
       "      <td>Ash Baron-Cohen</td>\n",
       "      <td>10.0</td>\n",
       "      <td>98.0</td>\n",
       "      <td>3.0</td>\n",
       "      <td>152.0</td>\n",
       "      <td>Stanley B. Herman</td>\n",
       "      <td>789.0</td>\n",
       "      <td>NaN</td>\n",
       "      <td>Crime|Drama</td>\n",
       "      <td>...</td>\n",
       "      <td>14.0</td>\n",
       "      <td>English</td>\n",
       "      <td>USA</td>\n",
       "      <td>NaN</td>\n",
       "      <td>NaN</td>\n",
       "      <td>1995.0</td>\n",
       "      <td>194.0</td>\n",
       "      <td>6.4</td>\n",
       "      <td>NaN</td>\n",
       "      <td>20</td>\n",
       "    </tr>\n",
       "    <tr>\n",
       "      <th>5034</th>\n",
       "      <td>Color</td>\n",
       "      <td>Neill Dela Llana</td>\n",
       "      <td>35.0</td>\n",
       "      <td>80.0</td>\n",
       "      <td>0.0</td>\n",
       "      <td>0.0</td>\n",
       "      <td>Edgar Tancangco</td>\n",
       "      <td>0.0</td>\n",
       "      <td>70071.0</td>\n",
       "      <td>Thriller</td>\n",
       "      <td>...</td>\n",
       "      <td>35.0</td>\n",
       "      <td>English</td>\n",
       "      <td>Philippines</td>\n",
       "      <td>Not Rated</td>\n",
       "      <td>7000.0</td>\n",
       "      <td>2005.0</td>\n",
       "      <td>0.0</td>\n",
       "      <td>6.3</td>\n",
       "      <td>NaN</td>\n",
       "      <td>74</td>\n",
       "    </tr>\n",
       "    <tr>\n",
       "      <th>5037</th>\n",
       "      <td>Color</td>\n",
       "      <td>Edward Burns</td>\n",
       "      <td>14.0</td>\n",
       "      <td>95.0</td>\n",
       "      <td>0.0</td>\n",
       "      <td>133.0</td>\n",
       "      <td>Caitlin FitzGerald</td>\n",
       "      <td>296.0</td>\n",
       "      <td>4584.0</td>\n",
       "      <td>Comedy|Drama</td>\n",
       "      <td>...</td>\n",
       "      <td>14.0</td>\n",
       "      <td>English</td>\n",
       "      <td>USA</td>\n",
       "      <td>Not Rated</td>\n",
       "      <td>9000.0</td>\n",
       "      <td>2011.0</td>\n",
       "      <td>205.0</td>\n",
       "      <td>6.4</td>\n",
       "      <td>NaN</td>\n",
       "      <td>413</td>\n",
       "    </tr>\n",
       "    <tr>\n",
       "      <th>5038</th>\n",
       "      <td>Color</td>\n",
       "      <td>Scott Smith</td>\n",
       "      <td>1.0</td>\n",
       "      <td>87.0</td>\n",
       "      <td>2.0</td>\n",
       "      <td>318.0</td>\n",
       "      <td>Daphne Zuniga</td>\n",
       "      <td>637.0</td>\n",
       "      <td>NaN</td>\n",
       "      <td>Comedy|Drama</td>\n",
       "      <td>...</td>\n",
       "      <td>6.0</td>\n",
       "      <td>English</td>\n",
       "      <td>Canada</td>\n",
       "      <td>NaN</td>\n",
       "      <td>NaN</td>\n",
       "      <td>2013.0</td>\n",
       "      <td>470.0</td>\n",
       "      <td>7.7</td>\n",
       "      <td>NaN</td>\n",
       "      <td>84</td>\n",
       "    </tr>\n",
       "  </tbody>\n",
       "</table>\n",
       "<p>964 rows × 28 columns</p>\n",
       "</div>"
      ],
      "text/plain": [
       "      color       director_name  num_critic_for_reviews  duration  \\\n",
       "55    Color          Peter Sohn                   298.0      93.0   \n",
       "84    Color        Roland Joffé                    10.0     109.0   \n",
       "98    Color        Hideaki Anno                     1.0     120.0   \n",
       "242   Color  Frédéric Forestier                    33.0     116.0   \n",
       "422   Color           Bob Fosse                    84.0     123.0   \n",
       "...     ...                 ...                     ...       ...   \n",
       "5029  Color    Kiyoshi Kurosawa                    78.0     111.0   \n",
       "5032  Color     Ash Baron-Cohen                    10.0      98.0   \n",
       "5034  Color    Neill Dela Llana                    35.0      80.0   \n",
       "5037  Color        Edward Burns                    14.0      95.0   \n",
       "5038  Color         Scott Smith                     1.0      87.0   \n",
       "\n",
       "      director_facebook_likes  actor_3_facebook_likes        actor_2_name  \\\n",
       "55                      113.0                   113.0         Jack McGraw   \n",
       "84                      596.0                   283.0       Alice Englert   \n",
       "98                       28.0                    12.0   Shin'ya Tsukamoto   \n",
       "242                       0.0                   141.0     Santiago Segura   \n",
       "422                     189.0                    87.0          Ben Vereen   \n",
       "...                       ...                     ...                 ...   \n",
       "5029                     62.0                     6.0       Anna Nakagawa   \n",
       "5032                      3.0                   152.0   Stanley B. Herman   \n",
       "5034                      0.0                     0.0     Edgar Tancangco   \n",
       "5037                      0.0                   133.0  Caitlin FitzGerald   \n",
       "5038                      2.0                   318.0       Daphne Zuniga   \n",
       "\n",
       "      actor_1_facebook_likes        gross  \\\n",
       "55                     275.0  123070338.0   \n",
       "84                     622.0          NaN   \n",
       "98                     544.0          NaN   \n",
       "242                    936.0          NaN   \n",
       "422                    813.0          NaN   \n",
       "...                      ...          ...   \n",
       "5029                    89.0      94596.0   \n",
       "5032                   789.0          NaN   \n",
       "5034                     0.0      70071.0   \n",
       "5037                   296.0       4584.0   \n",
       "5038                   637.0          NaN   \n",
       "\n",
       "                                         genres  ... num_user_for_reviews  \\\n",
       "55    Adventure|Animation|Comedy|Family|Fantasy  ...                345.0   \n",
       "84              Action|Adventure|Romance|Sci-Fi  ...                 15.0   \n",
       "98         Action|Adventure|Drama|Horror|Sci-Fi  ...                 13.0   \n",
       "242             Adventure|Comedy|Family|Fantasy  ...                 36.0   \n",
       "422                  Comedy|Drama|Music|Musical  ...                146.0   \n",
       "...                                         ...  ...                  ...   \n",
       "5029              Crime|Horror|Mystery|Thriller  ...                 50.0   \n",
       "5032                                Crime|Drama  ...                 14.0   \n",
       "5034                                   Thriller  ...                 35.0   \n",
       "5037                               Comedy|Drama  ...                 14.0   \n",
       "5038                               Comedy|Drama  ...                  6.0   \n",
       "\n",
       "      language      country  content_rating      budget  title_year  \\\n",
       "55     English          USA              PG         NaN      2015.0   \n",
       "84     English      Belgium               R         NaN      2015.0   \n",
       "98    Japanese        Japan             NaN         NaN      2016.0   \n",
       "242     French       France             NaN  78000000.0      2008.0   \n",
       "422    English          USA               R         NaN      1979.0   \n",
       "...        ...          ...             ...         ...         ...   \n",
       "5029  Japanese        Japan             NaN   1000000.0      1997.0   \n",
       "5032   English          USA             NaN         NaN      1995.0   \n",
       "5034   English  Philippines       Not Rated      7000.0      2005.0   \n",
       "5037   English          USA       Not Rated      9000.0      2011.0   \n",
       "5038   English       Canada             NaN         NaN      2013.0   \n",
       "\n",
       "     actor_2_facebook_likes imdb_score  aspect_ratio movie_facebook_likes  \n",
       "55                    150.0        6.8          2.35                20000  \n",
       "84                    525.0        4.5           NaN                  677  \n",
       "98                    106.0        8.2          2.35                    0  \n",
       "242                   276.0        5.1          2.35                  291  \n",
       "422                   388.0        7.8          1.85                    0  \n",
       "...                     ...        ...           ...                  ...  \n",
       "5029                   13.0        7.4          1.85                  817  \n",
       "5032                  194.0        6.4           NaN                   20  \n",
       "5034                    0.0        6.3           NaN                   74  \n",
       "5037                  205.0        6.4           NaN                  413  \n",
       "5038                  470.0        7.7           NaN                   84  \n",
       "\n",
       "[964 rows x 28 columns]"
      ]
     },
     "execution_count": 323,
     "metadata": {},
     "output_type": "execute_result"
    }
   ],
   "source": [
    "#def nans(df): return df[df.isnull().any(axis=1)]\n",
    "#nans(imdb_data)"
   ]
  },
  {
   "cell_type": "code",
   "execution_count": 294,
   "metadata": {},
   "outputs": [],
   "source": [
    "def fillValues(dataSet,original):\n",
    "    for index, row in dataSet.iterrows():\n",
    "    # Replace null values in column1 with 0\n",
    "        try :\n",
    "            print(index)\n",
    "            if pd.isnull(row['content_rating']):\n",
    "                original.at[index, 'content_rating'] = getContentRating(getMovieID(dataSet.at[index, 'movie_title']))\n",
    "            if pd.isnull(row['budget']):\n",
    "                original.at[index, 'budget'] = getBudget(getMovieID(dataSet.at[index, 'movie_title']))\n",
    "            if pd.isnull(row['gross']):\n",
    "                original.at[index, 'gross'] = getGross(getMovieID(dataSet.at[index, 'movie_title']))\n",
    "        except IndexError:\n",
    "            continue\n",
    "    "
   ]
  },
  {
   "cell_type": "code",
   "execution_count": 298,
   "metadata": {},
   "outputs": [
    {
     "data": {
      "text/plain": [
       "color                          0\n",
       "director_name                  0\n",
       "num_critic_for_reviews         0\n",
       "duration                       0\n",
       "director_facebook_likes        0\n",
       "actor_3_facebook_likes         0\n",
       "actor_2_name                   0\n",
       "actor_1_facebook_likes         0\n",
       "gross                          6\n",
       "genres                         0\n",
       "actor_1_name                   0\n",
       "movie_title                    0\n",
       "num_voted_users                0\n",
       "cast_total_facebook_likes      0\n",
       "actor_3_name                   0\n",
       "facenumber_in_poster           0\n",
       "plot_keywords                  0\n",
       "movie_imdb_link                0\n",
       "num_user_for_reviews           0\n",
       "language                       0\n",
       "country                        0\n",
       "content_rating                46\n",
       "budget                         1\n",
       "title_year                     0\n",
       "actor_2_facebook_likes         0\n",
       "imdb_score                     0\n",
       "aspect_ratio                 203\n",
       "movie_facebook_likes           0\n",
       "dtype: int64"
      ]
     },
     "execution_count": 298,
     "metadata": {},
     "output_type": "execute_result"
    }
   ],
   "source": [
    "result.isna().sum()"
   ]
  },
  {
   "cell_type": "code",
   "execution_count": 299,
   "metadata": {},
   "outputs": [
    {
     "data": {
      "text/plain": [
       "color                          0\n",
       "director_name                  0\n",
       "num_critic_for_reviews         0\n",
       "duration                       0\n",
       "director_facebook_likes        0\n",
       "actor_3_facebook_likes         0\n",
       "actor_2_name                   0\n",
       "actor_1_facebook_likes         0\n",
       "gross                        630\n",
       "genres                         0\n",
       "actor_1_name                   0\n",
       "movie_title                    0\n",
       "num_voted_users                0\n",
       "cast_total_facebook_likes      0\n",
       "actor_3_name                   0\n",
       "facenumber_in_poster           0\n",
       "plot_keywords                  0\n",
       "movie_imdb_link                0\n",
       "num_user_for_reviews           0\n",
       "language                       0\n",
       "country                        0\n",
       "content_rating               167\n",
       "budget                       348\n",
       "title_year                     0\n",
       "actor_2_facebook_likes         0\n",
       "imdb_score                     0\n",
       "aspect_ratio                 203\n",
       "movie_facebook_likes           0\n",
       "dtype: int64"
      ]
     },
     "execution_count": 299,
     "metadata": {},
     "output_type": "execute_result"
    }
   ],
   "source": [
    "imdb_data.isnull().sum()"
   ]
  },
  {
   "cell_type": "code",
   "execution_count": 297,
   "metadata": {},
   "outputs": [],
   "source": [
    "fillGross(result)"
   ]
  },
  {
   "cell_type": "code",
   "execution_count": 300,
   "metadata": {},
   "outputs": [
    {
     "data": {
      "text/plain": [
       "color                          0\n",
       "director_name                  0\n",
       "num_critic_for_reviews         0\n",
       "duration                       0\n",
       "director_facebook_likes        0\n",
       "actor_3_facebook_likes         0\n",
       "actor_2_name                   0\n",
       "actor_1_facebook_likes         0\n",
       "gross                          6\n",
       "genres                         0\n",
       "actor_1_name                   0\n",
       "movie_title                    0\n",
       "num_voted_users                0\n",
       "cast_total_facebook_likes      0\n",
       "actor_3_name                   0\n",
       "facenumber_in_poster           0\n",
       "plot_keywords                  0\n",
       "movie_imdb_link                0\n",
       "num_user_for_reviews           0\n",
       "language                       0\n",
       "country                        0\n",
       "content_rating                46\n",
       "budget                         1\n",
       "title_year                     0\n",
       "actor_2_facebook_likes         0\n",
       "imdb_score                     0\n",
       "aspect_ratio                 203\n",
       "movie_facebook_likes           0\n",
       "dtype: int64"
      ]
     },
     "execution_count": 300,
     "metadata": {},
     "output_type": "execute_result"
    }
   ],
   "source": [
    "result.isna().sum()"
   ]
  },
  {
   "cell_type": "code",
   "execution_count": null,
   "metadata": {},
   "outputs": [],
   "source": []
  }
 ],
 "metadata": {
  "kernelspec": {
   "display_name": "Python 3",
   "language": "python",
   "name": "python3"
  },
  "language_info": {
   "codemirror_mode": {
    "name": "ipython",
    "version": 3
   },
   "file_extension": ".py",
   "mimetype": "text/x-python",
   "name": "python",
   "nbconvert_exporter": "python",
   "pygments_lexer": "ipython3",
   "version": "3.10.6"
  },
  "orig_nbformat": 4
 },
 "nbformat": 4,
 "nbformat_minor": 2
}
